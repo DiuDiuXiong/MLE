{
 "cells": [
  {
   "metadata": {
    "ExecuteTime": {
     "end_time": "2025-09-18T02:04:45.985391Z",
     "start_time": "2025-09-18T02:04:45.420540Z"
    }
   },
   "cell_type": "code",
   "source": "import numpy as np",
   "id": "f35247b5e432ce63",
   "outputs": [],
   "execution_count": 1
  },
  {
   "metadata": {
    "ExecuteTime": {
     "end_time": "2025-09-18T02:04:46.105800Z",
     "start_time": "2025-09-18T02:04:46.102723Z"
    }
   },
   "cell_type": "code",
   "source": "",
   "id": "959f039e576019ba",
   "outputs": [],
   "execution_count": 2
  },
  {
   "metadata": {
    "ExecuteTime": {
     "end_time": "2025-09-18T02:07:27.543239Z",
     "start_time": "2025-09-18T02:07:27.540201Z"
    }
   },
   "cell_type": "code",
   "source": [
    "y_true = np.array([1, 0, 1, 1, 0, 1])\n",
    "y_pred = np.array([1, 0, 1, 0, 0, 1])\n",
    "tp = ((y_true==1) & (y_pred==1)).astype(int).sum()\n",
    "fn_fp = (y_true != y_pred).astype(int).sum()"
   ],
   "id": "bc725746d982953e",
   "outputs": [],
   "execution_count": 10
  },
  {
   "metadata": {},
   "cell_type": "code",
   "outputs": [],
   "execution_count": null,
   "source": "",
   "id": "22329801b714f9ea"
  }
 ],
 "metadata": {
  "kernelspec": {
   "display_name": "Python 3",
   "language": "python",
   "name": "python3"
  },
  "language_info": {
   "codemirror_mode": {
    "name": "ipython",
    "version": 2
   },
   "file_extension": ".py",
   "mimetype": "text/x-python",
   "name": "python",
   "nbconvert_exporter": "python",
   "pygments_lexer": "ipython2",
   "version": "2.7.6"
  }
 },
 "nbformat": 4,
 "nbformat_minor": 5
}
