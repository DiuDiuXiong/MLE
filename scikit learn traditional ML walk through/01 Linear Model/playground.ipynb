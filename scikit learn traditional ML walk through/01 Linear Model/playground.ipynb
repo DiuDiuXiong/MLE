{
 "cells": [
  {
   "metadata": {},
   "cell_type": "code",
   "outputs": [],
   "execution_count": null,
   "source": "import numpy as np",
   "id": "f35247b5e432ce63"
  },
  {
   "metadata": {},
   "cell_type": "code",
   "outputs": [],
   "execution_count": null,
   "source": [
    "x1 = np.array([1, 2, 3])\n",
    "x2 = np.array([4, 5, 6])"
   ],
   "id": "20c02c1337b32ba4"
  },
  {
   "metadata": {},
   "cell_type": "code",
   "outputs": [],
   "execution_count": null,
   "source": "x1 @ x2",
   "id": "1199eae1f937535d"
  },
  {
   "metadata": {
    "ExecuteTime": {
     "end_time": "2025-09-17T01:00:30.354465Z",
     "start_time": "2025-09-17T01:00:30.352315Z"
    }
   },
   "cell_type": "code",
   "source": [
    "y_true = np.array([3, -0.5, 2, 7])\n",
    "y_pred = np.array([2.5, 0.0, 2, 8])"
   ],
   "id": "6140fd94d518b0b2",
   "outputs": [],
   "execution_count": 198
  },
  {
   "metadata": {
    "ExecuteTime": {
     "end_time": "2025-09-17T01:01:12.010846Z",
     "start_time": "2025-09-17T01:01:12.008203Z"
    }
   },
   "cell_type": "code",
   "source": "np.square(y_true - y_pred).sum()",
   "id": "1bbcf6bf440ba48f",
   "outputs": [
    {
     "data": {
      "text/plain": [
       "1.5"
      ]
     },
     "execution_count": 201,
     "metadata": {},
     "output_type": "execute_result"
    }
   ],
   "execution_count": 201
  },
  {
   "metadata": {},
   "cell_type": "code",
   "outputs": [],
   "execution_count": null,
   "source": "",
   "id": "9434aae7676c11bc"
  }
 ],
 "metadata": {
  "kernelspec": {
   "display_name": "Python 3",
   "language": "python",
   "name": "python3"
  },
  "language_info": {
   "codemirror_mode": {
    "name": "ipython",
    "version": 2
   },
   "file_extension": ".py",
   "mimetype": "text/x-python",
   "name": "python",
   "nbconvert_exporter": "python",
   "pygments_lexer": "ipython2",
   "version": "2.7.6"
  }
 },
 "nbformat": 4,
 "nbformat_minor": 5
}
