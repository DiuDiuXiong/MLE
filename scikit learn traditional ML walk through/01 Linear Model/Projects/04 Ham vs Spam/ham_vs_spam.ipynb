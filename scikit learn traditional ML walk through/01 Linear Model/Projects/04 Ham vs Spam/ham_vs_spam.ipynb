{
 "cells": [
  {
   "metadata": {},
   "cell_type": "markdown",
   "source": [
    "# Spam vs. Ham Email (SMS Dataset)\n",
    "- Difficulty: Intermediate\n",
    "- Project Purpose: Classify spam vs ham using Logistic Regression on TF–IDF; stretch → compare L1 vs L2 penalties.\n",
    "- Points Examined: LogisticRegression, penalties (l1, l2), solvers (liblinear, saga).\n",
    "- Doc References: Logistic regression, Regularization.\n",
    "- Why Useful: Intro to classification; highlights sparse vs dense coefficients."
   ],
   "id": "bd60177bd1786f1c"
  },
  {
   "metadata": {},
   "cell_type": "markdown",
   "source": "# Part 0 Data Download",
   "id": "271773f3ea8e2418"
  },
  {
   "metadata": {
    "ExecuteTime": {
     "end_time": "2025-09-06T06:18:07.662134Z",
     "start_time": "2025-09-06T06:17:59.194062Z"
    }
   },
   "cell_type": "code",
   "outputs": [
    {
     "name": "stdout",
     "output_type": "stream",
     "text": [
      "  % Total    % Received % Xferd  Average Speed   Time    Time     Time  Current\r\n",
      "                                 Dload  Upload   Total   Spent    Left  Speed\r\n",
      "  0     0    0     0    0     0      0      0 --:--:-- --:--:-- --:--:--     0\r\n",
      "100  106M  100  106M    0     0  12.8M      0  0:00:08  0:00:07  0:00:01 17.2M 0  0:00:08  0:00:08 --:--:-- 19.1M\r\n"
     ]
    }
   ],
   "execution_count": 2,
   "source": [
    "from sklearn.pipeline import make_pipeline\n",
    "from sklearn.preprocessing import StandardScaler\n",
    "!curl -L -o ./190k-spam-ham-email-dataset-for-classification.zip https://www.kaggle.com/api/v1/datasets/download/meruvulikith/190k-spam-ham-email-dataset-for-classification"
   ],
   "id": "79ce9386a7c96b1d"
  },
  {
   "metadata": {
    "ExecuteTime": {
     "end_time": "2025-09-06T14:28:12.075199Z",
     "start_time": "2025-09-06T14:28:11.862529Z"
    }
   },
   "cell_type": "code",
   "source": [
    "import pandas as pd\n",
    "import numpy as np\n",
    "import matplotlib.pyplot as plt\n",
    "import seaborn as sns\n",
    "import sklearn\n",
    "from sklearn.model_selection import train_test_split\n",
    "from sklearn.pipeline import Pipeline, make_pipeline\n",
    "from sklearn.linear_model import LogisticRegression\n",
    "from sklearn.feature_extraction.text import TfidfVectorizer"
   ],
   "id": "c71f9e1835ee6108",
   "outputs": [],
   "execution_count": 1
  },
  {
   "metadata": {
    "ExecuteTime": {
     "end_time": "2025-09-06T14:28:15.228569Z",
     "start_time": "2025-09-06T14:28:12.082842Z"
    }
   },
   "cell_type": "code",
   "source": "data = pd.read_csv('./190k-spam-ham-email-dataset-for-classification.zip')",
   "id": "24c70c7f82670c48",
   "outputs": [],
   "execution_count": 2
  },
  {
   "metadata": {
    "ExecuteTime": {
     "end_time": "2025-09-06T14:28:16.352227Z",
     "start_time": "2025-09-06T14:28:16.348367Z"
    }
   },
   "cell_type": "code",
   "source": "data.shape",
   "id": "2faac2b16ae709d7",
   "outputs": [
    {
     "data": {
      "text/plain": [
       "(193852, 2)"
      ]
     },
     "execution_count": 3,
     "metadata": {},
     "output_type": "execute_result"
    }
   ],
   "execution_count": 3
  },
  {
   "metadata": {},
   "cell_type": "markdown",
   "source": "# Part 1 Hypothesis and plan of notebook",
   "id": "c99c6a6e06a068ce"
  },
  {
   "metadata": {},
   "cell_type": "markdown",
   "source": [
    "We want to use logistic regression to test whether a message is span or ham. And the architecture we want to use is:\n",
    "1. use tfidf to encode each text\n",
    "2. doing logistic regression on top of that\n",
    "\n",
    "- I believe this method will work because there are distinct words in spam/ham that will be strong classifier, as their word space doesn't seems to overlap and we don't need to capture the semantic meaning between. We will verify that by doing a n gram = (2, 2) to see if there's significant performance difference.\n",
    "- For classification, will draw the ConfusionMatrix to see if there are some miss classification, and if there are many, need to check and see why.\n",
    "- For the purpose of this project, will also compare between different solvers: (liblinear, saga). Based on the reading, since I have 193852 data, I would assume sage's speed is faster than liblinear, as sage is doing gradient descent while liblinear is looking at one whole column at once, will verify that by comparing the time diff."
   ],
   "id": "8af19c04d2512348"
  },
  {
   "metadata": {},
   "cell_type": "markdown",
   "source": "# Part 2 Pre-processing\n",
   "id": "7acbf13343a4e9f2"
  },
  {
   "metadata": {
    "ExecuteTime": {
     "end_time": "2025-09-06T14:28:19.573954Z",
     "start_time": "2025-09-06T14:28:19.542460Z"
    }
   },
   "cell_type": "code",
   "source": [
    "data = data.dropna()\n",
    "X = data.iloc[:, data.columns != 'label']\n",
    "y = data['label']"
   ],
   "id": "a43c4a08a316a37d",
   "outputs": [],
   "execution_count": 4
  },
  {
   "metadata": {
    "ExecuteTime": {
     "end_time": "2025-09-06T14:28:20.068468Z",
     "start_time": "2025-09-06T14:28:19.981841Z"
    }
   },
   "cell_type": "code",
   "source": [
    "data.groupby('label').size().plot(kind='bar')\n",
    "# We see that there is no specific imbalance between classes, so we will not do re-sampling nor missing value filling"
   ],
   "id": "e12203bcb0204125",
   "outputs": [
    {
     "data": {
      "text/plain": [
       "<Axes: xlabel='label'>"
      ]
     },
     "execution_count": 5,
     "metadata": {},
     "output_type": "execute_result"
    },
    {
     "data": {
      "text/plain": [
       "<Figure size 640x480 with 1 Axes>"
      ],
      "image/png": "[encoded data removed]"
     },
     "metadata": {},
     "output_type": "display_data"
    }
   ],
   "execution_count": 5
  },
  {
   "metadata": {
    "ExecuteTime": {
     "end_time": "2025-09-06T14:28:22.572999Z",
     "start_time": "2025-09-06T14:28:22.445545Z"
    }
   },
   "cell_type": "code",
   "source": [
    "# For now, will just use the default word breaker for tfidf tokenizer, but as a stretch, will try Lemmatization to see how things goes so at this stage, won't need any preprocessing, will just default for all.\n",
    "\n",
    "# Since we have 190k data, will do a train test split and its unlikely we got any lucky split, so will just do train test split without learning curve this time.\n",
    "X_train, X_test, y_train, y_test = train_test_split(X, y, test_size=0.2, random_state=42, stratify=y)\n",
    "X_train, X_test = list(X_train['text']), list(X_test['text'])"
   ],
   "id": "e5e96936d39cf635",
   "outputs": [],
   "execution_count": 6
  },
  {
   "metadata": {},
   "cell_type": "markdown",
   "source": "# Part 3 Training & Comparing (1,1)/ (2,2) n-gram, l1, l2 solver",
   "id": "e31eeba54babbc28"
  },
  {
   "metadata": {
    "ExecuteTime": {
     "end_time": "2025-09-06T16:40:04.707141Z",
     "start_time": "2025-09-06T16:38:11.700494Z"
    }
   },
   "cell_type": "code",
   "source": [
    "# Part 3 Training & Comparing (1,1)/ (2,2) n-gram, l1, l2 solver\n",
    "lgr_l1 = make_pipeline(\n",
    "    TfidfVectorizer(ngram_range=(1, 1), stop_words='english'),\n",
    "    LogisticRegression(penalty='l1', solver='liblinear')\n",
    ")\n",
    "\n",
    "lgr_l2 = make_pipeline(\n",
    "    TfidfVectorizer(ngram_range=(1, 1), stop_words='english'),\n",
    "    LogisticRegression(penalty='l2')\n",
    ")\n",
    "\n",
    "lgr_l1_2 = make_pipeline(\n",
    "    TfidfVectorizer(ngram_range=(2, 2), stop_words='english'),\n",
    "    LogisticRegression(penalty='l2')\n",
    ")\n",
    "\n",
    "lgr_l1.fit(X_train, y_train)\n",
    "lgr_l2.fit(X_train, y_train)\n",
    "lgr_l1_2.fit(X_train, y_train)\n",
    "print(lgr_l1.score(X_test, y_test))\n",
    "print(lgr_l2.score(X_test, y_test))\n",
    "print(lgr_l1_2.score(X_test, y_test))"
   ],
   "id": "71dac17e0b68b45f",
   "outputs": [
    {
     "name": "stdout",
     "output_type": "stream",
     "text": [
      "0.9758060355945318\n",
      "0.9789270054165592\n",
      "0.9755481042042816\n"
     ]
    }
   ],
   "execution_count": 56
  },
  {
   "metadata": {
    "ExecuteTime": {
     "end_time": "2025-09-06T14:31:18.518097Z",
     "start_time": "2025-09-06T14:31:18.516167Z"
    }
   },
   "cell_type": "code",
   "source": [
    "# The result above are all suspiciously high. Rather than claim it is a lucky split, I tend to the following:\n",
    "# 1. There are some strong indicator (will examine by print coef * mean in below)\n",
    "# 2. There are some kind of data leakage, maybe some information get pre-processed into the data before download\n",
    "# 3. We see that there is a 1% increase with 2-grand model, need to plot the top x feature to see if that make sense semantically or its just a lucky split."
   ],
   "id": "50d529d1ab8a4530",
   "outputs": [],
   "execution_count": 8
  },
  {
   "metadata": {},
   "cell_type": "markdown",
   "source": "# Part 4 Print the Confusion Matrix",
   "id": "55a31bd6ac2fe759"
  },
  {
   "metadata": {
    "ExecuteTime": {
     "end_time": "2025-09-06T14:31:35.752680Z",
     "start_time": "2025-09-06T14:31:21.428103Z"
    }
   },
   "cell_type": "code",
   "source": [
    "from sklearn.metrics import confusion_matrix, ConfusionMatrixDisplay\n",
    "\n",
    "for model in [lgr_l1, lgr_l2, lgr_l1_2]:\n",
    "    y_pred = model.predict(X_test)\n",
    "    cm = confusion_matrix(y_test, y_pred, labels=model.classes_)\n",
    "    disp = ConfusionMatrixDisplay(confusion_matrix=cm, display_labels=model.classes_)\n",
    "    disp.plot()\n",
    "    plt.show()\n",
    "    # One interesting finding is that even the lgr_l1_2 have higher score, it actually has more error samples compared to lgr_l2, why :("
   ],
   "id": "41fb964286404227",
   "outputs": [
    {
     "data": {
      "text/plain": [
       "<Figure size 640x480 with 2 Axes>"
      ],
      "image/png": "[encoded data removed]"
     },
     "metadata": {},
     "output_type": "display_data"
    },
    {
     "data": {
      "text/plain": [
       "<Figure size 640x480 with 2 Axes>"
      ],
      "image/png": "[encoded data removed]"
     },
     "metadata": {},
     "output_type": "display_data"
    },
    {
     "data": {
      "text/plain": [
       "<Figure size 640x480 with 2 Axes>"
      ],
      "image/png": "[encoded data removed]"
     },
     "metadata": {},
     "output_type": "display_data"
    }
   ],
   "execution_count": 9
  },
  {
   "metadata": {},
   "cell_type": "markdown",
   "source": [
    "# Part 5 Explore key-words\n",
    "Now we explore the top words for each of the model per ech of the class."
   ],
   "id": "225ad1050f452257"
  },
  {
   "metadata": {
    "ExecuteTime": {
     "end_time": "2025-09-06T14:42:44.349837Z",
     "start_time": "2025-09-06T14:41:42.170630Z"
    }
   },
   "cell_type": "code",
   "source": [
    "def get_top_feature_names(pipeline_model, X_train, top_k=20):\n",
    "    coefs = pipeline_model[1].coef_[0]\n",
    "    feature_means = np.asarray(pipeline_model[0].transform(X_train).mean(axis=0)).ravel()\n",
    "    feature_importance = coefs * feature_means\n",
    "    feature_names = pipeline_model[0].get_feature_names_out()\n",
    "    df = pd.DataFrame({\"word_weight\": feature_importance, \"words\": feature_names})\n",
    "    df.sort_values(\"word_weight\", ascending=True, inplace=True)\n",
    "    print(f\"Top {top_k} strongest word for {pipeline_model[1].classes_[0]}:\", df.iloc[:top_k, :])\n",
    "    print(f\"Top {top_k} strongest word for {pipeline_model[1].classes_[1]}:\", df.iloc[-top_k:, :])\n",
    "\n",
    "get_top_feature_names(lgr_l1, X_train)\n",
    "get_top_feature_names(lgr_l2, X_train)\n",
    "get_top_feature_names(lgr_l1_2, X_train)"
   ],
   "id": "3827dadb760e07f7",
   "outputs": [
    {
     "name": "stdout",
     "output_type": "stream",
     "text": [
      "Top 20 strongest word for Ham:         word_weight         words\n",
      "121923    -0.397193  escapenumber\n",
      "118937    -0.342748         enron\n",
      "340552    -0.219207        thanks\n",
      "330310    -0.211872       subject\n",
      "130089    -0.122994          ethz\n",
      "42167     -0.115542      attached\n",
      "306182    -0.111137         samba\n",
      "211637    -0.095002      listinfo\n",
      "266299    -0.094814          perl\n",
      "379558    -0.085954         wrote\n",
      "380430    -0.074888           www\n",
      "312251    -0.068718          sent\n",
      "256688    -0.061828           org\n",
      "286504    -0.061799     questions\n",
      "200078    -0.059072          know\n",
      "149029    -0.058967           gas\n",
      "214722    -0.056532        louise\n",
      "224858    -0.054874       meeting\n",
      "365934    -0.054157         vince\n",
      "251318    -0.048907       october\n",
      "Top 20 strongest word for Spam:         word_weight          words\n",
      "252088     0.027337          offer\n",
      "179919     0.027711           info\n",
      "76447      0.028569          click\n",
      "168052     0.029860             hk\n",
      "52316      0.030108           best\n",
      "224728     0.030805           meds\n",
      "80109      0.031467        company\n",
      "74517      0.032131         cialis\n",
      "269563     0.033123          pills\n",
      "307440     0.036236           save\n",
      "232239     0.037500          money\n",
      "241590     0.039631            net\n",
      "52026      0.041136  bescapenumber\n",
      "79185      0.042380            com\n",
      "277278     0.044150          price\n",
      "326997     0.047374     statements\n",
      "286028     0.048066        quality\n",
      "268755     0.049412            php\n",
      "121908     0.058011     escapelong\n",
      "171503     0.249917           http\n",
      "Top 20 strongest word for Ham:         word_weight         words\n",
      "121923    -0.360329  escapenumber\n",
      "118937    -0.189391         enron\n",
      "340552    -0.116770        thanks\n",
      "330310    -0.088385       subject\n",
      "42167     -0.064045      attached\n",
      "256688    -0.052789           org\n",
      "312251    -0.050203          sent\n",
      "200078    -0.045893          know\n",
      "271816    -0.039900            pm\n",
      "149029    -0.034998           gas\n",
      "256944    -0.034055      original\n",
      "380430    -0.033434           www\n",
      "286504    -0.033356     questions\n",
      "379558    -0.029192         wrote\n",
      "266299    -0.029137          perl\n",
      "224858    -0.028902       meeting\n",
      "211580    -0.027118          list\n",
      "240740    -0.024893          need\n",
      "340542    -0.024442         thank\n",
      "306182    -0.024075         samba\n",
      "Top 20 strongest word for Spam:         word_weight          words\n",
      "24494      0.015538          adobe\n",
      "269563     0.016070          pills\n",
      "25388      0.016568  aescapenumber\n",
      "268755     0.016668            php\n",
      "326997     0.016999     statements\n",
      "252088     0.018086          offer\n",
      "179919     0.018206           info\n",
      "286028     0.019353        quality\n",
      "76447      0.019480          click\n",
      "80109      0.019758        company\n",
      "52316      0.020336           best\n",
      "307440     0.021435           save\n",
      "232239     0.023352          money\n",
      "52026      0.024587  bescapenumber\n",
      "116403     0.025649          email\n",
      "277278     0.026938          price\n",
      "241590     0.027669            net\n",
      "79185      0.028318            com\n",
      "121908     0.060650     escapelong\n",
      "171503     0.144984           http\n",
      "Top 20 strongest word for Ham:          word_weight                      words\n",
      "1666774    -0.296822  escapenumber escapenumber\n",
      "3384632    -0.119446           original message\n",
      "2745501    -0.072012                   let know\n",
      "1682776    -0.056514            escapenumber pm\n",
      "1591996    -0.029103                  enron com\n",
      "3306835    -0.027396       october escapenumber\n",
      "3269653    -0.023614      november escapenumber\n",
      "1745535    -0.019761                    ethz ch\n",
      "3641523    -0.017165              posting guide\n",
      "1668658    -0.015598           escapenumber fax\n",
      "3514128    -0.015457                   perl org\n",
      "2307144    -0.013645                    hou ect\n",
      "2903805    -0.012012           mailman listinfo\n",
      "1592213    -0.011770                 enron corp\n",
      "4253222    -0.011598                sent monday\n",
      "1499006    -0.011354                    ect ect\n",
      "2903378    -0.010720               mailing list\n",
      "2558270    -0.010610       january escapenumber\n",
      "4254004    -0.009944               sent tuesday\n",
      "4254103    -0.009535             sent wednesday\n",
      "Top 20 strongest word for Spam:          word_weight                        words\n",
      "3736948     0.004311    professional escapenumber\n",
      "198805      0.004342  aescapenumber aescapenumber\n",
      "2855347     0.004767           looking statements\n",
      "1663629     0.005117             escapenumber day\n",
      "1672395     0.005226            escapenumber http\n",
      "5240505     0.005702              xp professional\n",
      "916985      0.006120             com escapenumber\n",
      "1639964     0.006161      escapelong escapenumber\n",
      "2873255     0.006810             low escapenumber\n",
      "1219193     0.006829                   day target\n",
      "4664306     0.007695                 target price\n",
      "1637994     0.007775               escapelong com\n",
      "1666768     0.007854      escapenumber escapelong\n",
      "4166031     0.009010            save escapenumber\n",
      "916984      0.010252               com escapelong\n",
      "1666172     0.014502           escapenumber email\n",
      "1655733     0.015442           escapenumber adobe\n",
      "3690473     0.021036           price escapenumber\n",
      "1639962     0.027573        escapelong escapelong\n",
      "2334692     0.039101                     http www\n"
     ]
    }
   ],
   "execution_count": 49
  },
  {
   "metadata": {
    "ExecuteTime": {
     "end_time": "2025-09-06T14:32:07.679688Z",
     "start_time": "2025-09-06T14:31:51.861260Z"
    }
   },
   "cell_type": "code",
   "source": [
    "# we see that escapenumber, escapelong is mentioned too many times in many of the key word, which is a bit noise and we want to exclude it during preprocessing.\n",
    "# Also, notice that http is used as top 1 feature for spam, this maybe comes from the spam link, but could also due to data leakage that some metadata tagging info is pushed inside the data"
   ],
   "id": "a370580222572b5c",
   "outputs": [],
   "execution_count": 11
  },
  {
   "metadata": {
    "ExecuteTime": {
     "end_time": "2025-09-06T16:42:46.476506Z",
     "start_time": "2025-09-06T16:40:34.113059Z"
    }
   },
   "cell_type": "code",
   "source": [
    "# Now lets remote escape* from the original doc and re-run the three model.\n",
    "import re\n",
    "def pre_remove_words_with_escape(text: str) -> str:\n",
    "    if text is None:\n",
    "        return \"\"\n",
    "    s = str(text).lower()                      # mimic default lowercasing\n",
    "    s = re.sub(r'\\b\\S*escape\\S*\\b', '', s)     # drop words like escape, escaped, escapee\n",
    "    s = re.sub(r'\\s{2,}', ' ', s).strip()      # tidy spaces\n",
    "    return s\n",
    "\n",
    "lgr_l1 = make_pipeline(\n",
    "    TfidfVectorizer(ngram_range=(1, 1), stop_words='english', preprocessor=pre_remove_words_with_escape),\n",
    "    LogisticRegression(penalty='l1', solver='liblinear')\n",
    ")\n",
    "\n",
    "lgr_l2 = make_pipeline(\n",
    "    TfidfVectorizer(ngram_range=(1, 1), stop_words='english', preprocessor=pre_remove_words_with_escape),\n",
    "    LogisticRegression(penalty='l2')\n",
    ")\n",
    "\n",
    "lgr_l1_2 = make_pipeline(\n",
    "    TfidfVectorizer(ngram_range=(2, 2), stop_words='english', preprocessor=pre_remove_words_with_escape),\n",
    "    LogisticRegression(penalty='l2')\n",
    ")\n",
    "\n",
    "lgr_l1.fit(X_train, y_train)\n",
    "lgr_l2.fit(X_train, y_train)\n",
    "lgr_l1_2.fit(X_train, y_train)\n",
    "print(lgr_l1.score(X_test, y_test))\n",
    "print(lgr_l2.score(X_test, y_test))\n",
    "print(lgr_l1_2.score(X_test, y_test))"
   ],
   "id": "1f90a087222dc51b",
   "outputs": [
    {
     "name": "stdout",
     "output_type": "stream",
     "text": [
      "0.9757802424555069\n",
      "0.9778436935775083\n",
      "0.9806293525922105\n"
     ]
    }
   ],
   "execution_count": 57
  },
  {
   "metadata": {
    "ExecuteTime": {
     "end_time": "2025-09-06T14:58:55.272018Z",
     "start_time": "2025-09-06T14:57:27.874166Z"
    }
   },
   "cell_type": "code",
   "source": [
    "# Now we print top words again\n",
    "get_top_feature_names(lgr_l1, X_train)\n",
    "get_top_feature_names(lgr_l2, X_train)\n",
    "get_top_feature_names(lgr_l1_2, X_train)"
   ],
   "id": "32d60963df43b51e",
   "outputs": [
    {
     "name": "stdout",
     "output_type": "stream",
     "text": [
      "Top 20 strongest word for Ham:         word_weight      words\n",
      "114280    -0.331380      enron\n",
      "321054    -0.225766     thanks\n",
      "311231    -0.224938    subject\n",
      "287758    -0.137758      samba\n",
      "40560     -0.118287   attached\n",
      "118568    -0.112067       ethz\n",
      "196723    -0.102122   listinfo\n",
      "249379    -0.097642       perl\n",
      "358537    -0.094560      wrote\n",
      "359349    -0.080229        www\n",
      "293701    -0.072346       sent\n",
      "240017    -0.067621        org\n",
      "268717    -0.064389  questions\n",
      "136792    -0.064061        gas\n",
      "254643    -0.063632         pm\n",
      "185682    -0.059652       know\n",
      "199707    -0.058632     louise\n",
      "209554    -0.057254    meeting\n",
      "234906    -0.055089    october\n",
      "124244    -0.054580        fax\n",
      "Top 20 strongest word for Spam:         word_weight       words\n",
      "276455     0.024874      remove\n",
      "252439     0.025994       pills\n",
      "235575     0.026421       offer\n",
      "73581      0.028416       click\n",
      "166490     0.028596        info\n",
      "277141     0.029517       reply\n",
      "71699      0.030233      cialis\n",
      "50316      0.030878        best\n",
      "155102     0.032552          hk\n",
      "209430     0.033067        meds\n",
      "288992     0.034010        save\n",
      "259976     0.035200       price\n",
      "216629     0.035963       money\n",
      "77145      0.037154     company\n",
      "225564     0.039838         net\n",
      "268249     0.043373     quality\n",
      "307971     0.047892  statements\n",
      "76234      0.049924         com\n",
      "251647     0.051113         php\n",
      "158420     0.260471        http\n",
      "Top 20 strongest word for Ham:         word_weight      words\n",
      "114280    -0.212102      enron\n",
      "321054    -0.128793     thanks\n",
      "311231    -0.104965    subject\n",
      "40560     -0.071881   attached\n",
      "293701    -0.059274       sent\n",
      "240017    -0.058129        org\n",
      "254643    -0.053272         pm\n",
      "240272    -0.047293   original\n",
      "136792    -0.042462        gas\n",
      "359349    -0.041290        www\n",
      "185682    -0.040506       know\n",
      "268717    -0.040417  questions\n",
      "209554    -0.034308    meeting\n",
      "358537    -0.033247      wrote\n",
      "287758    -0.032415      samba\n",
      "124244    -0.030708        fax\n",
      "249379    -0.030654       perl\n",
      "196667    -0.030100       list\n",
      "321044    -0.029810      thank\n",
      "234906    -0.028844    october\n",
      "Top 20 strongest word for Spam:         word_weight         words\n",
      "346037     0.016821         visit\n",
      "73581      0.017542         click\n",
      "277141     0.017575         reply\n",
      "307971     0.018227    statements\n",
      "235575     0.018650         offer\n",
      "261278     0.019232  professional\n",
      "77145      0.019233       company\n",
      "111798     0.019316         email\n",
      "251647     0.019865           php\n",
      "50316      0.020354          best\n",
      "166490     0.021688          info\n",
      "76234      0.022528           com\n",
      "259976     0.022591         price\n",
      "268249     0.024269       quality\n",
      "24240      0.025123         adobe\n",
      "252439     0.025182         pills\n",
      "288992     0.025904          save\n",
      "216629     0.028330         money\n",
      "225564     0.029706           net\n",
      "158420     0.172044          http\n",
      "Top 20 strongest word for Ham:          word_weight             words\n",
      "3343662    -0.161966  original message\n",
      "2687788    -0.077654          let know\n",
      "1613056    -0.033428         enron com\n",
      "1669346    -0.023680           ethz ch\n",
      "3605423    -0.020586     posting guide\n",
      "3475796    -0.016447          perl org\n",
      "4229079    -0.015250       sent monday\n",
      "1613274    -0.013981        enron corp\n",
      "2849202    -0.013638  mailman listinfo\n",
      "4229873    -0.013601      sent tuesday\n",
      "2239719    -0.013005           hou ect\n",
      "4229974    -0.012676    sent wednesday\n",
      "2848779    -0.012080      mailing list\n",
      "1520086    -0.010885           ect ect\n",
      "4228572    -0.009657       sent friday\n",
      "898619     -0.009645           cnn com\n",
      "4229815    -0.009634     sent thursday\n",
      "3127439    -0.009264       natural gas\n",
      "620295     -0.008965    branches samba\n",
      "3264468    -0.007968        october pm\n",
      "Top 20 strongest word for Spam:          word_weight               words\n",
      "3184198     0.002976            nice day\n",
      "387439      0.003057             aspx id\n",
      "4507183     0.003108      stop receiving\n",
      "4376228     0.003225           soft tabs\n",
      "930195      0.003404            com html\n",
      "1908684     0.003686     forward looking\n",
      "4980365     0.003879        uwaterloo ca\n",
      "5220349     0.003909             www com\n",
      "5153023     0.004148          windows xp\n",
      "536327      0.004206        best regards\n",
      "2799704     0.004494  looking statements\n",
      "2196026     0.004607        high quality\n",
      "3500616     0.004630        phone mobile\n",
      "3041047     0.004905        mobile email\n",
      "187159      0.005823     adobe photoshop\n",
      "4008790     0.006054        retail price\n",
      "5233972     0.006390     xp professional\n",
      "1235155     0.007355          day target\n",
      "4650174     0.008335        target price\n",
      "2267734     0.041644            http www\n"
     ]
    }
   ],
   "execution_count": 51
  },
  {
   "metadata": {
    "ExecuteTime": {
     "end_time": "2025-09-06T15:06:06.173573Z",
     "start_time": "2025-09-06T15:06:06.171403Z"
    }
   },
   "cell_type": "code",
   "source": "# Now the top words make much more sense",
   "id": "a7addd82e82e2153",
   "outputs": [],
   "execution_count": 52
  },
  {
   "metadata": {},
   "cell_type": "markdown",
   "source": "# Part 6 Compare the solving speed for different solvers",
   "id": "a0662266db53dc0c"
  },
  {
   "metadata": {
    "ExecuteTime": {
     "end_time": "2025-09-06T15:35:25.903763Z",
     "start_time": "2025-09-06T15:34:56.354545Z"
    }
   },
   "cell_type": "code",
   "source": [
    "# Noticed that both tfidf and training/inference cost a lot of time. So here we will compare the speed of default solver and saga solver\n",
    "tfidf_train, tfidf_test = lgr_l1[0].transform(X_train), lgr_l1[0].transform(X_test)"
   ],
   "id": "5dba1a90c7f914c1",
   "outputs": [],
   "execution_count": 53
  },
  {
   "metadata": {
    "ExecuteTime": {
     "end_time": "2025-09-06T15:41:50.259430Z",
     "start_time": "2025-09-06T15:41:50.257320Z"
    }
   },
   "cell_type": "code",
   "source": [
    "lgr_liblinear = LogisticRegression(penalty='l2', solver='liblinear')\n",
    "lgr_lbfgs = LogisticRegression(penalty='l2', solver='lbfgs')\n",
    "lgr_sage = LogisticRegression(penalty='l2', solver='saga')"
   ],
   "id": "b934a683641c9a46",
   "outputs": [],
   "execution_count": 54
  },
  {
   "metadata": {
    "ExecuteTime": {
     "end_time": "2025-09-06T15:44:41.380351Z",
     "start_time": "2025-09-06T15:44:31.939187Z"
    }
   },
   "cell_type": "code",
   "source": [
    "from time import time\n",
    "t = time()\n",
    "lgr_liblinear.fit(tfidf_train, y_train)\n",
    "print(f\"lgr_liblinear took {time() - t} seconds to fit, with testing score of {lgr_liblinear.score(tfidf_train, y_train)}\")\n",
    "t = time()\n",
    "lgr_lbfgs.fit(tfidf_train, y_train)\n",
    "print(f\"lgr_lbfgs took {time() - t} seconds to fit, with testing score of {lgr_lbfgs.score(tfidf_train, y_train)}\")\n",
    "t = time()\n",
    "lgr_sage.fit(tfidf_train, y_train)\n",
    "print(f\"lgr_sage took {time() - t} seconds to fit, with testing score of {lgr_sage.score(tfidf_train, y_train)}\")"
   ],
   "id": "39b16caff0d8868d",
   "outputs": [
    {
     "name": "stdout",
     "output_type": "stream",
     "text": [
      "lgr_liblinear took 3.513763904571533 seconds to fit, with testing score of 0.9871937064740779\n",
      "lgr_lbfgs took 1.719301700592041 seconds to fit, with testing score of 0.9845950477173072\n",
      "lgr_sage took 3.5417981147766113 seconds to fit, with testing score of 0.9871937064740779\n"
     ]
    }
   ],
   "execution_count": 55
  },
  {
   "metadata": {},
   "cell_type": "code",
   "outputs": [],
   "execution_count": null,
   "source": "# lbfgs is much faster than the other two. Need reason why.",
   "id": "28b0703dc6f70855"
  },
  {
   "metadata": {},
   "cell_type": "markdown",
   "source": [
    "# Part 7 GPT review\n",
    "\n",
    "Fixes & improvements (no code needed)\n",
    "\n",
    "Evaluate on the test set where you compare models\n",
    "\n",
    "In Part 3 you print model.score(X_train, y_train). That’s training accuracy and can mislead (especially with bigrams). When comparing models, report test accuracy/F1 (or cross-val) consistently.\n",
    "\n",
    "Name clarity\n",
    "\n",
    "lgr_l1_2 actually uses L2 with bigrams. Rename (e.g., lgr_l2_bi) to avoid confusion later.\n",
    "\n",
    "Vectorizer settings to try (usually help on text)\n",
    "\n",
    "sublinear_tf=True (log-scaled TF often stabilizes linear models).\n",
    "\n",
    "min_df: start with 2–5 (especially for bigrams) to drop ultra-rare features and reduce overfitting + memory.\n",
    "\n",
    "Consider keeping stopwords initially (stop_words=None). In spam classification, words like not, no, you may carry signal; TF-IDF already downweights common words. Compare both ways.\n",
    "\n",
    "If memory is tight: dtype=np.float32.\n",
    "\n",
    "Bigrams overfitting\n",
    "\n",
    "If (2,2) improved train score but worsened test errors, that’s classic overfitting to rare bigrams. Raise min_df for the bigram model and/or use L1/ElasticNet (with saga) to prune.\n",
    "\n",
    "Timing comparison hygiene\n",
    "\n",
    "You did the right thing by transforming TF-IDF once and reusing it. Also:\n",
    "\n",
    "For saga, set a higher max_iter (e.g., 1000–2000) and possibly a slightly looser tol so it converges. Default max_iter=100 can underfit/drag out convergence comparisons.\n",
    "\n",
    "For liblinear, dual=True helps when features ≫ samples (L2 only). On text, it can sometimes be faster.\n",
    "\n",
    "Top words inspection\n",
    "\n",
    "Your coef × mean(feature) view is great for “average push.” Also look at raw coef ranking (strongest when present). For L1 models, check sparsity (how many features zeroed).\n",
    "\n",
    "Preprocessor\n",
    "\n",
    "Your pre_remove_words_with_escape is correct and mirrors the vectorizer’s lowercase path. Good.\n",
    "\n",
    "Keep in mind: with a custom preprocessor, scikit-learn doesn’t apply its own lowercasing—so you did the right thing by lowercasing inside the function.\n",
    "\n",
    "“http” as a top feature\n",
    "\n",
    "That’s not leakage by itself—links are genuinely predictive for spam. It would be leakage only if labels or metadata were injected into text. (You later use only ['text'], so you’re good.)\n",
    "\n",
    "Reproducibility\n",
    "\n",
    "Set random_state for train_test_split (you did) and for LogisticRegression(solver='saga', random_state=42) to lock runs.\n",
    "\n",
    "Reporting\n",
    "\n",
    "Add precision, recall, F1, ROC-AUC on test for each variant (accuracy alone can hide shifts in FP/FN tradeoffs).\n",
    "\n",
    "Consider a PR curve (often more informative for spam)\n",
    "\n",
    "\n"
   ],
   "id": "e2051b4e6a66fa0d"
  },
  {
   "metadata": {},
   "cell_type": "code",
   "outputs": [],
   "execution_count": null,
   "source": "",
   "id": "4e5eb8d39bc466f5"
  },
  {
   "metadata": {},
   "cell_type": "markdown",
   "source": [
    "Answers to your in-notebook questions\n",
    "\n",
    "Q (Part 3/16):\n",
    "\n",
    "“Even though the bigram model had a higher score, its confusion matrix shows more errors—why?”\n",
    "\n",
    "You printed training scores earlier; the confusion matrices are on the test set. Bigrams often raise train accuracy but hurt test via overfitting (especially with min_df=1). Use test F1/accuracy for comparison, and/or increase min_df and try L1/ElasticNet on the bigram model."
   ],
   "id": "1be212ea7794601e"
  },
  {
   "metadata": {},
   "cell_type": "markdown",
   "source": [
    "Q (Part 6/27):\n",
    "\n",
    "“lbfgs is much faster than the other two. Need reason why.”\n",
    "\n",
    "With L2 on a moderately large but not gigantic dataset, lbfgs’s batch, curvature-aware steps often converge in few iterations, each a full pass but efficient in C.\n",
    "\n",
    "liblinear (coordinate descent) can be slower in very high dimensions for binary problems; it iterates feature-wise and may need more passes.\n",
    "\n",
    "saga has cheap iterations, but needs more of them; with default max_iter=100, it often hasn’t fully converged, and with higher max_iter it can take longer wall-clock. Properly tuned saga shines on very large, sparse problems and is needed for L1/ElasticNet and multinomial.\n",
    "\n",
    "TL;DR: For your setup (L2, binary TF-IDF, one full transform), lbfgs is a sweet spot."
   ],
   "id": "8521b0773aa814b5"
  }
 ],
 "metadata": {
  "kernelspec": {
   "display_name": "Python 3",
   "language": "python",
   "name": "python3"
  },
  "language_info": {
   "codemirror_mode": {
    "name": "ipython",
    "version": 2
   },
   "file_extension": ".py",
   "mimetype": "text/x-python",
   "name": "python",
   "nbconvert_exporter": "python",
   "pygments_lexer": "ipython2",
   "version": "2.7.6"
  }
 },
 "nbformat": 4,
 "nbformat_minor": 5
}
