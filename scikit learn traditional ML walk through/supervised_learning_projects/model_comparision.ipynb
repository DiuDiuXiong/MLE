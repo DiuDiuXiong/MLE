{
 "cells": [
  {
   "metadata": {},
   "cell_type": "markdown",
   "source": [
    "# Project: Model Bake-off — Designing Datasets to Highlight Strengths & Weaknesses\n",
    "\n",
    "Create or select datasets that deliberately favor one method over another. For each dataset, justify the design, run the models, and compare their performance. Models to include:\n",
    "- Gaussian Naive Bayes (NB)\n",
    "- Linear Discriminant Analysis (LDA)\n",
    "- Quadratic Discriminant Analysis (QDA)\n",
    "- k-Nearest Neighbors (k-NN)\n",
    "- Decision Trees (DT)\n",
    "- Random Forest (RF)\n",
    "\n",
    "Evaluate with ROC-AUC, PR-AUC, and calibration curves. Add probability calibration (Platt scaling / isotonic regression) to study confidence scores."
   ],
   "id": "9c91dc07ef475601"
  },
  {
   "metadata": {},
   "cell_type": "markdown",
   "source": "# Task 0 Defined generic models and test functions",
   "id": "583805fb26fd0855"
  },
  {
   "metadata": {
    "ExecuteTime": {
     "end_time": "2025-09-25T05:33:48.072487Z",
     "start_time": "2025-09-25T05:33:48.065759Z"
    }
   },
   "cell_type": "code",
   "source": [
    "import numpy as np\n",
    "import sklearn\n",
    "from sklearn.naive_bayes import GaussianNB\n",
    "from sklearn.discriminant_analysis import LinearDiscriminantAnalysis\n",
    "from sklearn.discriminant_analysis import QuadraticDiscriminantAnalysis\n",
    "from sklearn.neighbors import KNeighborsClassifier\n",
    "from sklearn.tree import DecisionTreeClassifier\n",
    "from sklearn.ensemble import RandomForestClassifier\n",
    "from sklearn.linear_model import LogisticRegression"
   ],
   "id": "a1aa8db33d6ccd74",
   "outputs": [],
   "execution_count": 3
  },
  {
   "metadata": {},
   "cell_type": "code",
   "outputs": [],
   "execution_count": null,
   "source": [
    "def create_models():\n",
    "    return {\n",
    "        \"lgr\": LogisticRegression(),\n",
    "        \"gnb\": GaussianNB(),\n",
    "        \"qda\": QuadraticDiscriminantAnalysis(),\n",
    "        \"lda\": LinearDiscriminantAnalysis(),\n",
    "        \"knn\": KNeighborsClassifier(),\n",
    "        \"dt\": DecisionTreeClassifier(),\n",
    "        \"rf\": RandomForestClassifier(),\n",
    "    }"
   ],
   "id": "2e15bc9dff9ad37b"
  }
 ],
 "metadata": {
  "kernelspec": {
   "name": "python3",
   "language": "python",
   "display_name": "Python 3 (ipykernel)"
  }
 },
 "nbformat": 5,
 "nbformat_minor": 9
}
